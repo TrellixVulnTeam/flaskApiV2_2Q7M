{
 "cells": [
  {
   "cell_type": "code",
   "execution_count": 8,
   "metadata": {},
   "outputs": [
    {
     "data": {
      "text/plain": [
       "<surprise.dataset.DatasetAutoFolds at 0x2fe09053a30>"
      ]
     },
     "execution_count": 8,
     "metadata": {},
     "output_type": "execute_result"
    }
   ],
   "source": [
    "from tqdm import tqdm\n",
    "import numpy as np\n",
    "import pandas as pd\n",
    "\n",
    "from sklearn.feature_extraction.text import TfidfVectorizer\n",
    "from sklearn.metrics.pairwise import linear_kernel, cosine_similarity\n",
    "\n",
    "from surprise import NormalPredictor, SVD, KNNBasic, NMF\n",
    "from surprise import Dataset, Reader, accuracy\n",
    "from surprise.model_selection import cross_validate, KFold\n",
    "\n",
    "\"\"\"\"DATA PREPROCESSING\"\"\"\n",
    "rating_data = 'goodreads-10k/ratings.csv'\n",
    "book_data = 'goodreads-10k/books.csv'\n",
    "\n",
    "# Load raw csv into dataframe\n",
    "df_ratings = pd.read_csv(rating_data)\n",
    "df_books = pd.read_csv(book_data)\n",
    "\n",
    "\"\"\"GET SUBSET DATA\"\"\"\n",
    "\n",
    "\n",
    "def get_subset(df, number):\n",
    "    rids = np.arange(df.shape[0])\n",
    "    np.random.shuffle(rids)\n",
    "    df_subset = df.iloc[rids[:number], :].copy()\n",
    "    return df_subset\n",
    "\n",
    "\n",
    "df_ratings_100k = get_subset(df_ratings, 100000)\n",
    "df_books_1000 = get_subset(df_books, 1000)\n",
    "\n",
    "\"\"\"READ RATINGS\"\"\"\n",
    "# Surprise reader\n",
    "reader = Reader(rating_scale=(0, 5))\n",
    "\n",
    "# Finally load all ratings\n",
    "ratings = Dataset.load_from_df(df_ratings_100k, reader)\n",
    "\n",
    "ratings\n",
    "\n",
    "# \"\"\"COLLABORATIVE FILTERING | EVALUATING MODEL\"\"\"\n",
    "# kf = KFold(n_splits=3)\n",
    "\n",
    "# algos = [SVD(), NMF(), KNNBasic()]\n",
    "# # SVD : Singular Value Decomposition\n",
    "# # NMF : Non-negative Matrix Factorization\n",
    "\n",
    "\n",
    "# def get_rmse(algo, testset):\n",
    "#     pred = algo.test(testset)\n",
    "#     accuracy.rmse(pred, verbose=True)\n",
    "\n",
    "\n",
    "# def get_mae(algo, testset):\n",
    "#     pred = algo.test(testset)\n",
    "#     accuracy.mae(pred, verbose=True)\n",
    "\n",
    "\n",
    "# for trainset, testset in tqdm(kf.split(ratings)):\n",
    "#     \"\"\"\n",
    "#         Get evaluation with cross-validation for different algorithms.\n",
    "#     \"\"\"\n",
    "#     for algo in algos:\n",
    "#         algo.fit(trainset)\n",
    "#         get_rmse(algo, testset)\n",
    "#         get_mae(algo, testset)"
   ]
  }
 ],
 "metadata": {
  "interpreter": {
   "hash": "7495bffcd0f4c9d5943aeb4e4e796e578d4e01dcb7472b563d59df0a4b76863a"
  },
  "kernelspec": {
   "display_name": "Python 3.10.2 ('env': venv)",
   "language": "python",
   "name": "python3"
  },
  "language_info": {
   "codemirror_mode": {
    "name": "ipython",
    "version": 3
   },
   "file_extension": ".py",
   "mimetype": "text/x-python",
   "name": "python",
   "nbconvert_exporter": "python",
   "pygments_lexer": "ipython3",
   "version": "3.10.2"
  },
  "orig_nbformat": 4
 },
 "nbformat": 4,
 "nbformat_minor": 2
}
